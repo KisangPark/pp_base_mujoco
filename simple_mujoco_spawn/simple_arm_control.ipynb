{
 "cells": [
  {
   "cell_type": "markdown",
   "id": "5dd5c60e",
   "metadata": {},
   "source": [
    "### Simple UR arm control\n",
    "- Mujoco Python viewer\n",
    "- Control with multiple methods\n",
    "    - mj data\n",
    "    - access control array with robot ID or joint name index"
   ]
  },
  {
   "cell_type": "code",
   "execution_count": null,
   "id": "0b8df04d",
   "metadata": {},
   "outputs": [],
   "source": [
    "import mujoco\n",
    "import mujoco_viewer # new viewer\n",
    "import numpy as np\n",
    "import time"
   ]
  },
  {
   "cell_type": "code",
   "execution_count": null,
   "id": "78a8566c",
   "metadata": {},
   "outputs": [],
   "source": [
    "# declare model & data\n",
    "model = mujoco.MjModel.from_xml_path(model_path)\n",
    "data = mujoco.MjData(model)"
   ]
  },
  {
   "cell_type": "code",
   "execution_count": null,
   "id": "21bf4052",
   "metadata": {},
   "outputs": [],
   "source": [
    "# create python viewer object\n",
    "viewer = mujoco_viewer.MujocoViewer(model, data)\n",
    "\n",
    "# data reset\n",
    "mujoco.mj_resetData(model, data)\n"
   ]
  },
  {
   "cell_type": "code",
   "execution_count": null,
   "id": "8837db43",
   "metadata": {},
   "outputs": [
    {
     "name": "stdout",
     "output_type": "stream",
     "text": [
      "Pressed ESC\n",
      "Quitting.\n"
     ]
    }
   ],
   "source": [
    "\"\"\" MAIN LOOP \"\"\"\n",
    "while True:\n",
    "    if viewer.is_alive:\n",
    "\n",
    "        # apply control\n",
    "        control_signal = [0.] * 6\n",
    "\n",
    "        # Method 1: control with data.ctrl\n",
    "        data.ctrl = control_signal\n",
    "\n",
    "        # Method 2: control with robot ID\n",
    "        robot_id = model.body('robot0').id\n",
    "        data.ctrl[robot_id] = control_signal\n",
    "\n",
    "        # Method 3: control with joint name index\n",
    "        joint_id = model.joint('elbow_joint').id\n",
    "        data.ctrl[joint_id] = control_signal\n",
    "        \n",
    "        mujoco.mj_step(model, data)\n",
    "        viewer.render()\n",
    "\n",
    "    else:\n",
    "        break\n",
    "\n",
    "# close\n",
    "viewer.close()"
   ]
  }
 ],
 "metadata": {
  "language_info": {
   "name": "python"
  }
 },
 "nbformat": 4,
 "nbformat_minor": 5
}
