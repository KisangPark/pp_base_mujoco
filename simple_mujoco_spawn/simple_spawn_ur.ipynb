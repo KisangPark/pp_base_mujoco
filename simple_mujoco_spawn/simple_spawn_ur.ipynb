{
 "cells": [
  {
   "cell_type": "code",
   "execution_count": 9,
   "id": "6f2dbd7f",
   "metadata": {},
   "outputs": [],
   "source": [
    "import mujoco\n",
    "import mujoco_viewer # new viewer\n",
    "import numpy as np\n",
    "import time"
   ]
  },
  {
   "cell_type": "code",
   "execution_count": 10,
   "id": "f28e45a0",
   "metadata": {},
   "outputs": [],
   "source": [
    "model = mujoco.MjModel.from_xml_path('ur5e_mjcf/scene.xml')\n",
    "data = mujoco.MjData(model)"
   ]
  },
  {
   "cell_type": "code",
   "execution_count": null,
   "id": "59b31ab8",
   "metadata": {},
   "outputs": [],
   "source": [
    "# create the viewer object\n",
    "viewer = mujoco_viewer.MujocoViewer(model, data)\n",
    "\n",
    "# reference position\n",
    "pos_0 = [0.0, 0.0, 0.0, 0.0, 0.0, 0.0] # zero pose: lying down\n",
    "pos = [0.0] * 6\n",
    "pos[5] = 1.6\n",
    "\n",
    "mujoco.mj_resetData(model, data)\n",
    "\n",
    "control_signal = pos\n",
    "flag = 0\n",
    "count = 0\n"
   ]
  },
  {
   "cell_type": "code",
   "execution_count": null,
   "id": "6d191f0e",
   "metadata": {},
   "outputs": [
    {
     "name": "stdout",
     "output_type": "stream",
     "text": [
      "Pressed ESC\n",
      "Quitting.\n"
     ]
    }
   ],
   "source": [
    "# simulate and render\n",
    "while True:\n",
    "    if viewer.is_alive:\n",
    "\n",
    "        # apply control\n",
    "        # control_signal = pos_0\n",
    "\n",
    "        # set input control\n",
    "        data.ctrl = control_signal # xml 내부에 들어있는 actuator\n",
    "        \n",
    "        mujoco.mj_step(model, data)\n",
    "        viewer.render()\n",
    "    else:\n",
    "        break\n",
    "\n",
    "# close\n",
    "viewer.close()"
   ]
  }
 ],
 "metadata": {
  "kernelspec": {
   "display_name": "diffusion_env",
   "language": "python",
   "name": "python3"
  },
  "language_info": {
   "codemirror_mode": {
    "name": "ipython",
    "version": 3
   },
   "file_extension": ".py",
   "mimetype": "text/x-python",
   "name": "python",
   "nbconvert_exporter": "python",
   "pygments_lexer": "ipython3",
   "version": "3.13.5"
  }
 },
 "nbformat": 4,
 "nbformat_minor": 5
}
