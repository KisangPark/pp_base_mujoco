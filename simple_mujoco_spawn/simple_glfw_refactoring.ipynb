{
 "cells": [
  {
   "cell_type": "markdown",
   "id": "a47cdf17",
   "metadata": {},
   "source": [
    "## Mujoco Class to utlize glfw & mjspec"
   ]
  },
  {
   "cell_type": "markdown",
   "id": "7c639b07",
   "metadata": {},
   "source": [
    "Idea\n",
    "- class or function to create window, context, scene, camera and option array?\n",
    "    - Window, context, scene, camera, options\n",
    "    - mujoco model, data, multi-camera as single function or class\n",
    "\n",
    "- Utilize MjSpec\n",
    "    - frame, attach, spec"
   ]
  },
  {
   "cell_type": "code",
   "execution_count": 6,
   "id": "e7ebdbf2",
   "metadata": {},
   "outputs": [],
   "source": [
    "import mujoco\n",
    "\n",
    "import numpy as np\n",
    "import time\n",
    "\n",
    "import glfw\n",
    "import sys"
   ]
  },
  {
   "cell_type": "code",
   "execution_count": null,
   "id": "8794e1a7",
   "metadata": {},
   "outputs": [],
   "source": [
    "\"\"\"\n",
    "MUJOCO_CLASS class\n",
    "- GLFW, attach camera\n",
    "- MjSpec: generate basic frame, attach, spec\n",
    "\"\"\""
   ]
  },
  {
   "cell_type": "markdown",
   "id": "7a58e48d",
   "metadata": {},
   "source": [
    "지금 생각: 필요해지면 그때 하자..!"
   ]
  },
  {
   "cell_type": "code",
   "execution_count": null,
   "id": "b7abbc4e",
   "metadata": {},
   "outputs": [],
   "source": [
    "class MUJOCO_CLASS():\n",
    "\n",
    "    def __init__(self):\n",
    "\n",
    "        # plain world\n",
    "        xml_path = '../ur5e_mjcf/plain_world.xml'\n",
    "\n",
    "        # define model & data\n",
    "        self.model = mujoco.MjModel.from_xml_path(xml_path)\n",
    "        self.data = mujoco.MjData(self.model)\n",
    "        self.contexts = []\n",
    "        self.scenes = []\n",
    "        self.cameras = []\n",
    "    \n",
    "    def attach_frame(self, frame_name, frame_id):\n",
    "        # attach frame to world using mjspec\n",
    "        self.frame_id = frame_id\n",
    "        self.frame_name = frame_name\n",
    "        self.robot_spec = mujoco.MjSpec(self.model, self.data)\n",
    "        self.robot_frame = mujoco.MjFrame(self.model)\n",
    "        self.robot_attach = mujoco.MjAttach(self.model)\n",
    "    \n",
    "    def add_camera(self, camera_name, camera_id):\n",
    "        # if want to add camera from xml, add scene / context / option\n",
    "        self.cameras.append(camera_id)\n",
    "        self.scenes.append(mujoco.MjvScene(self.model, maxgeom=1000))\n",
    "        self.contexts.append(mujoco.MjrContext(self.model, mujoco.mjtFontScale.mjFONTSCALE_150))\n",
    "        self.options.append(mujoco.MjvOption())\n",
    "        \n",
    "    def config_robot(self, robot_name, robot_id):\n",
    "        self.robot_id = robot_id\n",
    "        self.robot_name = robot_name\n",
    "        self.robot_spec = mujoco.MjSpec(self.model, self.data)\n",
    "        self.robot_frame = mujoco.MjFrame(self.model)\n",
    "        self.robot_attach = mujoco.MjAttach(self.model)\n",
    "\n",
    "    def view_with_python_viewer(self):\n",
    "        # utilize mujoco python viewer\n",
    "    \n",
    "    def view_with_glfw(self):\n",
    "        # utilize glfw\n",
    "        "
   ]
  }
 ],
 "metadata": {
  "kernelspec": {
   "display_name": "diffusion_env",
   "language": "python",
   "name": "python3"
  },
  "language_info": {
   "codemirror_mode": {
    "name": "ipython",
    "version": 3
   },
   "file_extension": ".py",
   "mimetype": "text/x-python",
   "name": "python",
   "nbconvert_exporter": "python",
   "pygments_lexer": "ipython3",
   "version": "3.13.5"
  }
 },
 "nbformat": 4,
 "nbformat_minor": 5
}
