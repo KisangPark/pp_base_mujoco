{
 "cells": [
  {
   "cell_type": "markdown",
   "id": "5dd5c60e",
   "metadata": {},
   "source": [
    "### Simple mujoco control\n",
    "- UR5e\n",
    "- Mujoco Python viewer\n",
    "- Control with actuator name"
   ]
  },
  {
   "cell_type": "code",
   "execution_count": 1,
   "id": "0b8df04d",
   "metadata": {},
   "outputs": [],
   "source": [
    "import mujoco\n",
    "import mujoco_viewer # new viewer\n",
    "import numpy as np\n",
    "import time"
   ]
  },
  {
   "cell_type": "code",
   "execution_count": 2,
   "id": "54c0ed64",
   "metadata": {},
   "outputs": [],
   "source": [
    "model_path = \"../ur5e_mjcf/scene.xml\""
   ]
  },
  {
   "cell_type": "code",
   "execution_count": 3,
   "id": "78a8566c",
   "metadata": {},
   "outputs": [],
   "source": [
    "# declare model & data\n",
    "model = mujoco.MjModel.from_xml_path(model_path)\n",
    "data = mujoco.MjData(model)"
   ]
  },
  {
   "cell_type": "code",
   "execution_count": 4,
   "id": "e5386a1f",
   "metadata": {},
   "outputs": [
    {
     "data": {
      "text/plain": [
       "6"
      ]
     },
     "execution_count": 4,
     "metadata": {},
     "output_type": "execute_result"
    }
   ],
   "source": [
    "# mujoco model & data arrays\n",
    "\n",
    "# number of control\n",
    "number_of_control = model.nu\n",
    "number_of_control\n"
   ]
  },
  {
   "cell_type": "code",
   "execution_count": 5,
   "id": "811b8bdb",
   "metadata": {},
   "outputs": [
    {
     "name": "stdout",
     "output_type": "stream",
     "text": [
      "mjtObj.mjOBJ_ACTUATOR\n",
      "['shoulder_pan', 'shoulder_lift', 'elbow', 'wrist_1', 'wrist_2', 'wrist_3']\n"
     ]
    }
   ],
   "source": [
    "# Get name of controls\n",
    "print(mujoco.mjtObj.mjOBJ_ACTUATOR) # enum constant to specify actuator object type\n",
    "# Cpp enum: set of integer constants\n",
    "# mjOBJ_ACTUATOR: actually integer constant to configure that given object is actuator\n",
    "control_names = [mujoco.mj_id2name(model,mujoco.mjtObj.mjOBJ_ACTUATOR,ctrl_idx) for ctrl_idx in range(number_of_control)]\n",
    "print(control_names)"
   ]
  },
  {
   "cell_type": "code",
   "execution_count": 6,
   "id": "5b719318",
   "metadata": {},
   "outputs": [
    {
     "name": "stdout",
     "output_type": "stream",
     "text": [
      "[[-6.2831  6.2831]\n",
      " [-6.2831  6.2831]\n",
      " [-3.1415  3.1415]\n",
      " [-6.2831  6.2831]\n",
      " [-6.2831  6.2831]\n",
      " [-6.2831  6.2831]]\n"
     ]
    }
   ],
   "source": [
    "# get controller range\n",
    "control_range = model.actuator_ctrlrange\n",
    "print(control_range)"
   ]
  },
  {
   "cell_type": "code",
   "execution_count": 7,
   "id": "d0f34ff5",
   "metadata": {},
   "outputs": [
    {
     "data": {
      "text/plain": [
       "array([0. , 0.8, 0.8, 0. , 0. , 0. ])"
      ]
     },
     "execution_count": 7,
     "metadata": {},
     "output_type": "execute_result"
    }
   ],
   "source": [
    "\"\"\"\n",
    "function: name and value array to input control  \n",
    "\n",
    "- Use actuator name to control -> should get index & translate\n",
    "\"\"\"\n",
    "\n",
    "def apply_control(model, data, name, value):\n",
    "\n",
    "    if len(name) != len(value):\n",
    "        raise ValueError(\"length of name and value is different\")\n",
    "\n",
    "    # get control names from model\n",
    "    control_names = [mujoco.mj_id2name(model,mujoco.mjtObj.mjOBJ_ACTUATOR,ctrl_idx) for ctrl_idx in range(model.nu)]\n",
    "\n",
    "    # initialize control array\n",
    "    ctrl_ = np.zeros(model.nu) # number of control\n",
    "\n",
    "    # compare name and control_names to return index\n",
    "    # idxs = []\n",
    "    for i, n in enumerate(name):\n",
    "        if n in control_names:\n",
    "            idx = control_names.index(n)\n",
    "            ctrl_[idx] = value[i]\n",
    "            # idxs.append(idx)\n",
    "        else:\n",
    "            print(f\"Name {n} is not included in actuator names, passing..\")\n",
    "\n",
    "    # assign value to corresponding control indices\n",
    "    # for i, idx in enumerate(idxs):\n",
    "    #     ctrl_[idx] = value[i]\n",
    "\n",
    "\n",
    "    data.ctrl = ctrl_\n",
    "    return None\n",
    "\n",
    "apply_control(model, data, name=[\"shoulder_lift\", \"elbow\"], value=[0.8, 0.8])\n",
    "data.ctrl"
   ]
  },
  {
   "cell_type": "code",
   "execution_count": 8,
   "id": "8837db43",
   "metadata": {},
   "outputs": [
    {
     "name": "stdout",
     "output_type": "stream",
     "text": [
      "Pressed ESC\n",
      "Quitting.\n"
     ]
    }
   ],
   "source": [
    "\"\"\" MAIN LOOP \"\"\"\n",
    "\n",
    "# create python viewer object\n",
    "viewer = mujoco_viewer.MujocoViewer(model, data)\n",
    "\n",
    "# data reset\n",
    "mujoco.mj_resetData(model, data)\n",
    "\n",
    "while True:\n",
    "    if viewer.is_alive:\n",
    "\n",
    "        # apply control\n",
    "        apply_control(model, data, name=[\"shoulder_lift\", \"elbow\"], value=[0.8, 0.8]) # now data \n",
    "        # control_signal = [0.] * 6\n",
    "        \n",
    "        mujoco.mj_step(model, data)\n",
    "        viewer.render()\n",
    "\n",
    "    else:\n",
    "        break\n",
    "\n",
    "# close\n",
    "viewer.close()"
   ]
  },
  {
   "cell_type": "code",
   "execution_count": null,
   "id": "a6a67f7a",
   "metadata": {},
   "outputs": [],
   "source": []
  }
 ],
 "metadata": {
  "kernelspec": {
   "display_name": "pp_env_torch",
   "language": "python",
   "name": "pp_env_torch"
  },
  "language_info": {
   "codemirror_mode": {
    "name": "ipython",
    "version": 3
   },
   "file_extension": ".py",
   "mimetype": "text/x-python",
   "name": "python",
   "nbconvert_exporter": "python",
   "pygments_lexer": "ipython3",
   "version": "3.13.5"
  }
 },
 "nbformat": 4,
 "nbformat_minor": 5
}
