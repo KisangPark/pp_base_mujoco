{
 "cells": [
  {
   "cell_type": "markdown",
   "id": "ba3479e5",
   "metadata": {},
   "source": [
    "### Simple UR arm control\n",
    "- Mujoco Python viewer\n",
    "- Control with multiple methods\n",
    "    - mj data\n",
    "    - access control array with robot ID or joint name index\n",
    "- practice mjSpec for multiple arm spawn"
   ]
  },
  {
   "cell_type": "code",
   "execution_count": null,
   "id": "ac203ad4",
   "metadata": {},
   "outputs": [],
   "source": [
    "import mujoco\n",
    "import mujoco_viewer # new viewer\n",
    "import numpy as np\n",
    "import time"
   ]
  },
  {
   "cell_type": "markdown",
   "id": "d798c090",
   "metadata": {},
   "source": [
    "### Mujoco official documentation\n",
    "- mjSpec is created -> compiled into mjModel"
   ]
  },
  {
   "cell_type": "code",
   "execution_count": null,
   "id": "839a94bc",
   "metadata": {},
   "outputs": [],
   "source": [
    "# declare model & data\n",
    "spec = mj.MjSpec.from_string(arena_xml)\n",
    "data = mujoco.MjData(model)"
   ]
  },
  {
   "cell_type": "code",
   "execution_count": null,
   "id": "34e9d2c4",
   "metadata": {},
   "outputs": [],
   "source": [
    "# attach frame\n",
    "frame = mujoco.MjFrame(model)\n",
    "# attach geom\n",
    "geom = mujoco.MjGeom(model)\n",
    "# attach body\n",
    "body = mujoco.MjBody(model)\n",
    "# attach joint\n",
    "joint = mujoco.MjJoint(model)"
   ]
  }
 ],
 "metadata": {
  "language_info": {
   "name": "python"
  }
 },
 "nbformat": 4,
 "nbformat_minor": 5
}
